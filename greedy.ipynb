{
 "cells": [
  {
   "cell_type": "markdown",
   "source": [
    "# Greedy Algorithms\n",
    "\n",
    "끝나는 시간이 가장 짧은 다음 activity를 고른다."
   ],
   "metadata": {}
  },
  {
   "cell_type": "code",
   "execution_count": 2,
   "source": [
    "def printMaxActivities(s, f):\n",
    "    n = len(f)\n",
    "    i = 0\n",
    "    for j in range(n):\n",
    "        if s[j] >= f[i]:\n",
    "            print(j)\n",
    "            i = j"
   ],
   "outputs": [],
   "metadata": {}
  },
  {
   "cell_type": "code",
   "execution_count": 3,
   "source": [
    "s = [1 , 3 , 0 , 5 , 8 , 5]\n",
    "f = [2 , 4 , 6 , 7 , 9 , 9]\n",
    "printMaxActivities(s , f)"
   ],
   "outputs": [
    {
     "output_type": "stream",
     "name": "stdout",
     "text": [
      "1\n",
      "3\n",
      "4\n"
     ]
    }
   ],
   "metadata": {}
  },
  {
   "cell_type": "code",
   "execution_count": 5,
   "source": [
    "# Time Complexity: O(nlogn)\n",
    "\n",
    "def MaxActivities(arr, n):\n",
    "    selected = []\n",
    "    arr.sort(key = lambda x: x[1])\n",
    "    i = 0\n",
    "    selected.append(arr[i])\n",
    "    for j in range(1, n):\n",
    "        if arr[j][0] >= arr[i][1]:\n",
    "            selected.append(arr[j])\n",
    "            i = j\n",
    "    return selected"
   ],
   "outputs": [],
   "metadata": {}
  },
  {
   "cell_type": "code",
   "execution_count": 7,
   "source": [
    "Activity = [[5, 9], [1, 2], [3, 4], [0, 6],[5, 7], [8, 9]]\n",
    "n = len(Activity)\n",
    "selected = MaxActivities(Activity, n)\n",
    "selected"
   ],
   "outputs": [
    {
     "output_type": "execute_result",
     "data": {
      "text/plain": [
       "[[1, 2], [3, 4], [5, 7], [8, 9]]"
      ]
     },
     "metadata": {},
     "execution_count": 7
    }
   ],
   "metadata": {}
  },
  {
   "cell_type": "markdown",
   "source": [
    "## Mininum Spanning Tree\n",
    "Spanning Tree은 모든 vertices를 연결한 그래프이다.  \n",
    "V=vertices의 갯수라고 하면 (V-1)개의 edges가 있다."
   ],
   "metadata": {}
  },
  {
   "cell_type": "markdown",
   "source": [
    "## Kruskal's Mininum Spanning Tree(MST)\n",
    "1. 모든 edges를 오름차순으로 정렬한다.\n",
    "2. 가장 작은 edge부터 cycle를 형성하는지 확인한다. cycle을 형성하지 않으면 포함시키고 아니면 버린다.\n",
    "\n",
    "![](https://media.geeksforgeeks.org/wp-content/uploads/20210727035309/UntitledDiagram92.png)\n",
    "\n",
    "아래와 같이 edge가 포함된다.\n",
    "1. 7 -- 6 (1)\n",
    "2. 6 -- 5 (2)\n",
    "3. 8 -- 2 (2)\n",
    "4. 0 -- 1 (4)\n",
    "5. 2 -- 5 (4)\n",
    "6. 2 -- 3 (7)\n",
    "7. 0 -- 7 (8)\n",
    "8. 3 -- 4 (9)"
   ],
   "metadata": {}
  },
  {
   "cell_type": "code",
   "execution_count": 4,
   "source": [
    "from collections import defaultdict\n",
    "\n",
    "class Graph:\n",
    "\n",
    "    def __init__(self, vertices):\n",
    "        self.V = vertices\n",
    "        self.graph = []\n",
    "\n",
    "    def add_edge(self, u, v, w):\n",
    "        self.graph.append([u, v, w])\n",
    "\n",
    "    def find(self, parent, i):\n",
    "        if parent[i] == i:\n",
    "            return i\n",
    "        return self.find(parent, parent[i])\n",
    "\n",
    "    def union(self, parent, rank, x, y):\n",
    "        x_root = self.find(parent, x)\n",
    "        y_root = self.find(parent, y)\n",
    "\n",
    "        if rank[x_root] < rank[y_root]:\n",
    "            parent[x_root] = y_root\n",
    "        elif rank[x_root] > rank[y_root]:\n",
    "            parent[y_root] = x_root\n",
    "        else:\n",
    "            parent[y_root] = x_root\n",
    "            rank[x_root] += 1\n",
    "\n",
    "    def KruskalMST(self):\n",
    "        result = []\n",
    "        i = 0\n",
    "        e = 0\n",
    "        self.graph = sorted(self.graph, key = lambda item:item[2])\n",
    "        parent = []\n",
    "        rank = []\n",
    "        for node in range(self.V):\n",
    "            parent.append(node)\n",
    "            rank.append(0)\n",
    "\n",
    "        while e < self.V - 1:\n",
    "            u, v, w = self.graph[i]\n",
    "            i = i+1\n",
    "            x = self.find(parent, u)\n",
    "            y = self.find(parent, v)\n",
    "            if x != y:\n",
    "                e = e+1\n",
    "                result.append([u, v, w])\n",
    "                self.union(parent, rank, x, y)\n",
    "        \n",
    "        minimum_cost = 0\n",
    "        for u, v, weight in result:\n",
    "            minimum_cost += weight\n",
    "            print(\"%d -- %d == %d\"%(u, v, weight))\n",
    "        print(\"Minimum Spanning Tree : \", minimum_cost)"
   ],
   "outputs": [],
   "metadata": {}
  },
  {
   "cell_type": "code",
   "execution_count": 5,
   "source": [
    "\"\"\"\n",
    "            10\n",
    "        0--------1\n",
    "        | \\      |\n",
    "       6|   \\5   |15\n",
    "        |     \\  |\n",
    "        2--------3\n",
    "             4     \n",
    "\"\"\"\n",
    "g = Graph(4)\n",
    "g.add_edge(0, 1, 10)\n",
    "g.add_edge(0, 2, 6)\n",
    "g.add_edge(0, 3, 5)\n",
    "g.add_edge(1, 3, 15)\n",
    "g.add_edge(2, 3, 4)\n",
    "\n",
    "g.KruskalMST()\n"
   ],
   "outputs": [
    {
     "output_type": "stream",
     "name": "stdout",
     "text": [
      "2 -- 3 == 4\n",
      "0 -- 3 == 5\n",
      "0 -- 1 == 10\n",
      "Minimum Spanning Tree :  19\n"
     ]
    }
   ],
   "metadata": {}
  },
  {
   "cell_type": "markdown",
   "source": [
    "## Prim's Minimum Spinning Tree\n",
    "![](https://www.geeksforgeeks.org/wp-content/uploads/Fig-11.jpg)"
   ],
   "metadata": {}
  },
  {
   "cell_type": "markdown",
   "source": [],
   "metadata": {}
  },
  {
   "cell_type": "markdown",
   "source": [
    "## Dijkstra's Shortest Path"
   ],
   "metadata": {}
  },
  {
   "cell_type": "markdown",
   "source": [
    "## Huffman Coding"
   ],
   "metadata": {}
  },
  {
   "cell_type": "code",
   "execution_count": null,
   "source": [],
   "outputs": [],
   "metadata": {}
  }
 ],
 "metadata": {
  "orig_nbformat": 4,
  "kernelspec": {
   "name": "venv_py3.8",
   "display_name": "venv_py3.8",
   "language": "python"
  },
  "language_info": {
   "name": "python",
   "version": "3.8.10",
   "mimetype": "text/x-python",
   "codemirror_mode": {
    "name": "ipython",
    "version": 3
   },
   "pygments_lexer": "ipython3",
   "nbconvert_exporter": "python",
   "file_extension": ".py"
  }
 },
 "nbformat": 4,
 "nbformat_minor": 2
}